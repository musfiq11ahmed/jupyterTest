{
 "cells": [
  {
   "cell_type": "code",
   "execution_count": 6,
   "id": "7e2dfe0f-6b26-41c8-bae2-d26d634fee70",
   "metadata": {},
   "outputs": [
    {
     "name": "stdout",
     "output_type": "stream",
     "text": [
      "In brightest day, in blackest night\n",
      "No evil shall escape by sight\n"
     ]
    }
   ],
   "source": [
    "print(\"In brightest day, in blackest night\"); print (\"No evil shall escape by sight\") "
   ]
  },
  {
   "cell_type": "code",
   "execution_count": 8,
   "id": "ace391d3-e5fa-41a7-a302-94acdb0b4c7d",
   "metadata": {},
   "outputs": [
    {
     "name": "stdout",
     "output_type": "stream",
     "text": [
      "0\t12\t24\n"
     ]
    }
   ],
   "source": [
    "DataString = \"0\\t12\\t24\"\n",
    "print (DataString)"
   ]
  },
  {
   "cell_type": "code",
   "execution_count": 10,
   "id": "c4b828e2-98e8-4ea8-afbc-cdb65e3bc1b3",
   "metadata": {},
   "outputs": [
    {
     "name": "stdout",
     "output_type": "stream",
     "text": [
      "I wanna be the very best,\n",
      "\tThat no one ever was!\n",
      "To catch them is my real test,\n",
      "\tTo train them is my cause.\n",
      "\n",
      "I’ll travel across the land,\n",
      "\tSearching far and wide –\n",
      "Each Pokemon to understand\n",
      "\tThe power that’s inside.\n"
     ]
    }
   ],
   "source": [
    "print(\"I wanna be the very best,\"); print (\"\\tThat no one ever was!\"); print(\"To catch them is my real test,\"); print(\"\\tTo train them is my cause.\"); print(\"\"); print(\"I’ll travel across the land,\"); print(\"\\tSearching far and wide –\"); print(\"Each Pokemon to understand\"); print(\"\\tThe power that’s inside.\")"
   ]
  },
  {
   "cell_type": "markdown",
   "id": "2b29d80e-df6b-4d84-9201-b5fa3032b67a",
   "metadata": {},
   "source": [
    "What is this Markdown thing? I cannot wait to see! What is this Markdown thing? I cannot wait to see!\n",
    "\n",
    "Aha!  This opens up a door of possibilities."
   ]
  },
  {
   "cell_type": "markdown",
   "id": "26d4263d-c230-4c57-9645-f2b21ee90d74",
   "metadata": {},
   "source": [
    "# This is a Level 1 Heading."
   ]
  },
  {
   "cell_type": "markdown",
   "id": "ec4715ad-906a-4cb7-b585-1edf42ba9989",
   "metadata": {},
   "source": [
    "## This is a Level 2 Heading\n",
    "Level 2  is slightly smaller in font."
   ]
  },
  {
   "cell_type": "markdown",
   "id": "0781b7ff-5941-4103-9ef1-ef19333f896a",
   "metadata": {},
   "source": [
    "### This is a Level 3 heading.\n",
    "LIh likes this the most for casual use, as it is polite and not too loud and gaudy."
   ]
  },
  {
   "cell_type": "code",
   "execution_count": 20,
   "id": "5d483d27-bcbd-4515-9d9e-65f50f50c5e2",
   "metadata": {},
   "outputs": [
    {
     "ename": "SyntaxError",
     "evalue": "invalid syntax (2220295942.py, line 1)",
     "output_type": "error",
     "traceback": [
      "\u001b[1;36m  Cell \u001b[1;32mIn[20], line 1\u001b[1;36m\u001b[0m\n\u001b[1;33m    `print` is the first function I used in Python.\u001b[0m\n\u001b[1;37m    ^\u001b[0m\n\u001b[1;31mSyntaxError\u001b[0m\u001b[1;31m:\u001b[0m invalid syntax\n"
     ]
    }
   ],
   "source": [
    "`print` is the first function I used in Python."
   ]
  },
  {
   "cell_type": "markdown",
   "id": "b502237a-c48d-4d3d-928c-884febcd0a25",
   "metadata": {},
   "source": [
    "`print` is the first function I used in Python."
   ]
  },
  {
   "cell_type": "markdown",
   "id": "d7aacc57-29e2-45f0-b069-e649a030dbc7",
   "metadata": {},
   "source": [
    "### Day 2 Exercise\n",
    "Dear Diary,\n",
    "In Day 1, I printed out a lot of sentences using the `print` function. I learned how to use `\\t` and `\\n`.\n",
    "If I keep this up, I can learn Python *in no time*! I **really** want to learn Python. Hopefully, I can be the ***very best!***"
   ]
  },
  {
   "cell_type": "markdown",
   "id": "506d1aaa-923a-4353-a9d9-757289a0887f",
   "metadata": {},
   "source": [
    "### Coloring"
   ]
  },
  {
   "cell_type": "markdown",
   "id": "83ba8131-189f-4b78-bcb8-5b23b900600d",
   "metadata": {},
   "source": [
    "We can mix colors by either the RGB method or the CMYK method. \n",
    "\n",
    "<font color=red> RGB, which stands for Red-Green-Blue,  uses Red, Green and Blue as the primary colors and derives all the other colors from there. This is the preferred method for graphics that will be viewed on digital screens such as  computer monitors, TV, smart phones etc. </font>\n",
    "\n",
    "<font color = magenta> CMYK, which stand for Cyan-Magenta-Yellow-Key(Black), is better used for graphics that will be ultimately printed.   We can use this for business cards, flyers, billboard advertising etc.  </font>"
   ]
  },
  {
   "cell_type": "markdown",
   "id": "b1ae8523-e031-41e9-8e8f-8aa3288e5a96",
   "metadata": {},
   "source": [
    "<font color=blue> RGB, which stands Red, Green and Blue. </font>\n",
    "\n",
    "<font color=Yellow> CMYK, which stands for Cyan, Magenta, Yellow and Black. </font>"
   ]
  },
  {
   "cell_type": "markdown",
   "id": "6bcfd4d7-8fcb-4342-ac35-899aac8c5e97",
   "metadata": {},
   "source": [
    "### Lists\n",
    "\n",
    "The little girl wonders whether the squirrel eats the following:\n",
    "\n",
    "- guava\n",
    "- jaggery\n",
    "- milk and rice\n",
    "- pomelo\n",
    "- gourd\n",
    "- baby animals?\n",
    "    - kittens"
   ]
  },
  {
   "cell_type": "markdown",
   "id": "3fb25565-c1b6-4001-83d9-86e8e50f5dd0",
   "metadata": {},
   "source": [
    "There are three films in the Goopy Bagha series\n",
    "1. Goopy Gyne\n",
    "2. Hirak Rajar\n",
    "3. Goopy Bagha"
   ]
  },
  {
   "cell_type": "markdown",
   "id": "18e2fbb2-960c-4be5-8f12-46abbad51cf6",
   "metadata": {},
   "source": [
    "A conversation about honesty:\n",
    ">Honesty is the first chapter in the book of wisdom.\n",
    ">>Yeah, but it makes you vulnerable.\n",
    ">Honesty prospers in every condition of life.\n",
    ">>There are just platitudes.\n",
    ">>>Ok, you two, listen! Honesty may, in the short term and specially..."
   ]
  },
  {
   "cell_type": "code",
   "execution_count": 12,
   "id": "d5de55c0-e1ff-49e1-a957-adabc4a03c5f",
   "metadata": {},
   "outputs": [
    {
     "name": "stderr",
     "output_type": "stream",
     "text": [
      "'[]' is not recognized as an internal or external command,\n",
      "operable program or batch file.\n"
     ]
    }
   ],
   "source": [
    "![](https://upload.wikimedia.org/wikipedia/commons/e/ea/Dhaka_21st_March_%2825870222381%29.jpg)"
   ]
  },
  {
   "cell_type": "markdown",
   "id": "2519b3c1-1e80-41a4-8fe4-d1e63074fdf5",
   "metadata": {},
   "source": [
    "![](https://upload.wikimedia.org/wikipedia/commons/e/ea/Dhaka_21st_March_%2825870222381%29.jpg)"
   ]
  },
  {
   "cell_type": "markdown",
   "id": "171c86e1-58c6-4614-bc78-a622f7e38eaf",
   "metadata": {},
   "source": [
    "![](https://upload.wikimedia.org/wikipedia/commons/e/ea/Dhaka_21st_March_%2825870222381%29.jpg)"
   ]
  },
  {
   "cell_type": "markdown",
   "id": "9d016628-1afb-4d6f-9fc2-a6ce984f3dd4",
   "metadata": {},
   "source": [
    "![](https://upload.wikimedia.org/wikipedia/commons/e/ea/Dhaka_21st_March_%2825870222381%29.jpg) “Dhaka is pretty!”"
   ]
  },
  {
   "cell_type": "markdown",
   "id": "dad9b7d0-5497-4db3-983a-9650e6a243ac",
   "metadata": {},
   "source": [
    "\"`python\n",
    "\n",
    "#Let's print something\n",
    "\n",
    "print(\"Hi, I'm a little bit of Pythode Code!\")\n",
    "\n",
    "\"`\n"
   ]
  },
  {
   "cell_type": "markdown",
   "id": "fd9da536-f85d-473d-a9b3-49c212a096ea",
   "metadata": {},
   "source": [
    "“`python\n",
    "\n",
    "#Let’s print something\n",
    "\n",
    "  print(“Hi, I’m a little bit of Python code!”)\n",
    "\n",
    "“`"
   ]
  },
  {
   "cell_type": "markdown",
   "id": "c7d7634c-a24a-43d9-ada1-f394a135c271",
   "metadata": {},
   "source": [
    "\"`c++\n",
    "\n",
    "#include<iostream>\n",
    "\n",
    "using namespace std;\n",
    "\n",
    "//Let's print something!\n",
    "\n",
    "int main(){\n",
    "\n",
    "    cout<<\"Hello, I am a tiny C++ code\";\n",
    "    \n",
    "    return 0;\n",
    "    \n",
    "}\n",
    "\n",
    "\"`"
   ]
  },
  {
   "cell_type": "markdown",
   "id": "da596335-86da-4a92-a6e9-56fea290f5ff",
   "metadata": {},
   "source": [
    "This was a life-saver back at school!\n",
    "\n",
    "$a^2-b^2=(a+b)(a-b)$"
   ]
  },
  {
   "cell_type": "markdown",
   "id": "21a4600b-8a8b-4852-aca3-3ec781877f1e",
   "metadata": {},
   "source": [
    "“`OCTAVE\n",
    "\n",
    "%% This is a matrix full of zeros\n",
    "\n",
    "M = zeros(2,2)\n",
    "\n",
    "M = M+4  % Now this is matrix full of 4\n",
    "\n",
    "disp(“Matlab is not recognized as a parameter  here, that’s why we are choosing the open source alternative OCTAVE”)\n",
    "\n",
    "“`"
   ]
  },
  {
   "cell_type": "markdown",
   "id": "a3575458-5739-4ac0-ab38-d18a21bf74e5",
   "metadata": {},
   "source": [
    "```python\n",
    "\n",
    "#Let's print something\n",
    "\n",
    "  print(\"Hi, I’m a little bit of Python code!\")\n",
    "```"
   ]
  },
  {
   "cell_type": "markdown",
   "id": "bc4596aa-75c3-409d-9cf8-14079a37a6c2",
   "metadata": {},
   "source": [
    "```c++\n",
    "\n",
    "#include <iostream>\n",
    "\n",
    "using namespace std;\n",
    "\n",
    "// Let’s print something!\n",
    "\n",
    "int main() {\n",
    "\n",
    "   cout << “Hello, I am a tiny C++ code”;\n",
    "\n",
    "   return 0;\n",
    "\n",
    "}\n",
    "```"
   ]
  },
  {
   "cell_type": "markdown",
   "id": "f0985e5f-1bf7-4eaa-b270-3d54d922a611",
   "metadata": {},
   "source": [
    "```OCTAVE\n",
    "\n",
    "%% This is a matrix full of zeros\n",
    "\n",
    "M = zeros(2,2)\n",
    "\n",
    "M = M+4  % Now this is matrix full of 4\n",
    "\n",
    "disp(“Matlab is not recognized as a parameter  here, that’s why we are choosing the open source alternative OCTAVE”)\n",
    "```"
   ]
  },
  {
   "cell_type": "markdown",
   "id": "f17cdae1-dbec-43db-9509-61a135b9db45",
   "metadata": {},
   "source": [
    "# Zanpakuto\n",
    "\n",
    "A **Zanpakutō**(*Soul-Cutter Sword*; *Viz* \"Soul Slayer\") is the main weapon of a Shinigami, the Arrancar, and the Visored. The Shinigami art of wielding a Zanpakutō called **Zanjutsu** (*Swordsmanship*)\n",
    "\n",
    "\n",
    "### Contents\n",
    "\n",
    "Here are the contents of this fandom wiki page:\n",
    "\n",
    "1. Overview\n",
    "2. Zanpakuto Facts\n",
    "3. History\n",
    "4. Training\n",
    "5. Powers\n",
    "\n",
    "## Overview\n",
    "\n",
    "The Zanpakutō of low-ranking Shinigami are called Asauchi and do not have names, but the Zanpakutō of high-ranking Shinigami do have names.\n",
    ">*\"You've used your Zanpakutō as tools? Treated them like subordinates? Relied on them like partners? As family? As friends? Role models? Students? Pets? Acquaintances? Sweethearts? Lovers? [...] You're looking at things completely the wrong way. Which is superior, the Zanpakutō or the Shinigami? Let's think about that to start with, yeah?!\"*\n",
    ">\n",
    ">-Oetsu Nimaiya in \"THE BATTLE\"\n",
    "\n",
    "## Zanpukuto Facts\n",
    "\n",
    " - All Asauchi are forged solely by Oetsu Nimaiya.\n",
    "     - <font color=key> Being the creator of every Asauchi, Nimaiya knows the exact location of every Zanpakuto in existence. </font>\n",
    " - <font color=green> The size of the Zanpakuto reflects the amount of the swordsman's spiritual power. </font>\n",
    " - <font color=magenta> Every Zanpakuto has its own name, which  the wielder must learn. </font>\n",
    "\n",
    "## Including Code blocks\n",
    "\n",
    "Let us pretend.....\n",
    "\n",
    "```python\n",
    "    if x==1;\n",
    "        print(\"This is a shikai!\")\n",
    "    elif x==2;\n",
    "        print(\"This is a bankai!\")\n",
    "    else;\n",
    "        print(\"This is just a normal sword :/\")\n",
    "```"
   ]
  },
  {
   "cell_type": "code",
   "execution_count": 21,
   "id": "dbc994b5-15e6-4c55-8299-61d655215922",
   "metadata": {},
   "outputs": [
    {
     "name": "stdout",
     "output_type": "stream",
     "text": [
      "9\n"
     ]
    }
   ],
   "source": [
    "a = 9\n",
    "print (a)"
   ]
  },
  {
   "cell_type": "code",
   "execution_count": 23,
   "id": "028ebdda-ff9b-4eea-9acc-d07f545254a8",
   "metadata": {},
   "outputs": [
    {
     "name": "stdout",
     "output_type": "stream",
     "text": [
      "9.0\n"
     ]
    }
   ],
   "source": [
    "b=9.0\n",
    "print(b)"
   ]
  },
  {
   "cell_type": "code",
   "execution_count": 25,
   "id": "f16089fc-feba-48f5-96f1-1ffe7c68c196",
   "metadata": {},
   "outputs": [
    {
     "name": "stdout",
     "output_type": "stream",
     "text": [
      "9.0\n"
     ]
    }
   ],
   "source": [
    "c=float(9)\n",
    "print(c)"
   ]
  },
  {
   "cell_type": "code",
   "execution_count": 27,
   "id": "49fed43a-e2d1-4938-8530-74ab9a85a087",
   "metadata": {},
   "outputs": [
    {
     "name": "stdout",
     "output_type": "stream",
     "text": [
      "kamehameha\n"
     ]
    }
   ],
   "source": [
    "string1=\"kamehameha\"\n",
    "print(string1)"
   ]
  },
  {
   "cell_type": "code",
   "execution_count": 29,
   "id": "7eb0a4c6-76c2-4ebc-8e84-e0958ae58271",
   "metadata": {},
   "outputs": [
    {
     "name": "stdout",
     "output_type": "stream",
     "text": [
      "It's the final countdown!\n"
     ]
    }
   ],
   "source": [
    "string2=\"It's the final countdown!\"\n",
    "print(string2)"
   ]
  },
  {
   "cell_type": "code",
   "execution_count": 35,
   "id": "74b8ebce-f0b3-491b-825c-e956d24f7342",
   "metadata": {},
   "outputs": [
    {
     "name": "stdout",
     "output_type": "stream",
     "text": [
      "And then he yelled/sang, \"It's the final countdooown!\n",
      "Ta na naaa na\n",
      "Ta na nanana\n",
      "Ta na naaa na\n",
      "Ta na nana nanana!\" \n"
     ]
    }
   ],
   "source": [
    "someFancyLine=\"And then he yelled/sang, \\\"It's the final countdooown!\\nTa na naaa na\\nTa na nanana\\nTa na naaa na\\nTa na nana nanana!\\\" \"\n",
    "print(someFancyLine)"
   ]
  },
  {
   "cell_type": "code",
   "execution_count": 37,
   "id": "9b0fc488-9bbf-4747-a738-cf0fa03b9f51",
   "metadata": {},
   "outputs": [
    {
     "name": "stdout",
     "output_type": "stream",
     "text": [
      "7\n",
      "3\n",
      "10\n",
      "2.5 0.4\n"
     ]
    }
   ],
   "source": [
    "a = 2\n",
    "\n",
    "b = 5\n",
    "\n",
    "print(a+b)\n",
    "\n",
    "print(b-a)\n",
    "\n",
    "product = a*b\n",
    "\n",
    "print(product)\n",
    "\n",
    "bhaag = b/a\n",
    "\n",
    "ultaBhaag = a/b\n",
    "\n",
    "print(bhaag,ultaBhaag)"
   ]
  },
  {
   "cell_type": "code",
   "execution_count": 39,
   "id": "ae5990c9-e0b5-4702-9748-54c537fa0ce7",
   "metadata": {},
   "outputs": [
    {
     "name": "stdout",
     "output_type": "stream",
     "text": [
      "2.0\n"
     ]
    }
   ],
   "source": [
    "a = 2\n",
    "\n",
    "b = 1.0\n",
    "\n",
    "print(a*b)"
   ]
  },
  {
   "cell_type": "code",
   "execution_count": 41,
   "id": "21dacea3-4628-484a-9156-5e3709f66c2c",
   "metadata": {},
   "outputs": [
    {
     "name": "stdout",
     "output_type": "stream",
     "text": [
      "1\n",
      "3 2\n"
     ]
    }
   ],
   "source": [
    "a,b,c =3,0,1\n",
    "\n",
    "print(c)\n",
    "\n",
    "print(a+b, a-c)"
   ]
  },
  {
   "cell_type": "code",
   "execution_count": 43,
   "id": "f79ed792-5020-419c-85b1-70e8d7790f45",
   "metadata": {},
   "outputs": [
    {
     "name": "stdout",
     "output_type": "stream",
     "text": [
      "0 1\n"
     ]
    }
   ],
   "source": [
    "Leftover =  7%c   \n",
    "\n",
    "Leftover2 = 3%2\n",
    "print(Leftover, Leftover2)"
   ]
  },
  {
   "cell_type": "code",
   "execution_count": 45,
   "id": "a3cf0fc1-3067-4606-aa01-e202e10ae276",
   "metadata": {},
   "outputs": [
    {
     "name": "stdout",
     "output_type": "stream",
     "text": [
      "16 64 2.0\n"
     ]
    }
   ],
   "source": [
    "Number = 4\n",
    "\n",
    "NumberSquared = Number**2\n",
    "\n",
    "NumberCubed = Number**3\n",
    "\n",
    "NumberSquareRooted = Number**(0.5)\n",
    "\n",
    "print(NumberSquared, NumberCubed, NumberSquareRooted)"
   ]
  },
  {
   "cell_type": "code",
   "execution_count": 47,
   "id": "6122a27f-431d-42bf-b915-9090a4ff484b",
   "metadata": {},
   "outputs": [
    {
     "name": "stdout",
     "output_type": "stream",
     "text": [
      "1729 1729\n"
     ]
    }
   ],
   "source": [
    "a=1**3\n",
    "b=12**3\n",
    "c=9**3\n",
    "d=10**3\n",
    "sum1=a+b\n",
    "sum2=c+d\n",
    "print(sum1,sum2)"
   ]
  },
  {
   "cell_type": "code",
   "execution_count": 49,
   "id": "e87f4928-8baa-4c98-81aa-9f57ec4d8926",
   "metadata": {},
   "outputs": [
    {
     "name": "stdout",
     "output_type": "stream",
     "text": [
      "1729\n"
     ]
    }
   ],
   "source": [
    "p1=7\n",
    "p2=13\n",
    "p3=19\n",
    "prod=p1*p2*p3\n",
    "print(prod)"
   ]
  },
  {
   "cell_type": "code",
   "execution_count": 51,
   "id": "ddc618de-4e9e-4212-aec6-5d054dc60c6a",
   "metadata": {},
   "outputs": [
    {
     "name": "stdout",
     "output_type": "stream",
     "text": [
      "19\n"
     ]
    },
    {
     "ename": "NameError",
     "evalue": "name 'reverse_number' is not defined",
     "output_type": "error",
     "traceback": [
      "\u001b[1;31m---------------------------------------------------------------------------\u001b[0m",
      "\u001b[1;31mNameError\u001b[0m                                 Traceback (most recent call last)",
      "Cell \u001b[1;32mIn[51], line 7\u001b[0m\n\u001b[0;32m      5\u001b[0m Masahiko\u001b[38;5;241m=\u001b[39ma\u001b[38;5;241m+\u001b[39mb\u001b[38;5;241m+\u001b[39mc\u001b[38;5;241m+\u001b[39md\n\u001b[0;32m      6\u001b[0m \u001b[38;5;28mprint\u001b[39m(Masahiko)\n\u001b[1;32m----> 7\u001b[0m Fujiwara\u001b[38;5;241m=\u001b[39mreverse_number(Masahiko)\n\u001b[0;32m      8\u001b[0m \u001b[38;5;28mprint\u001b[39m(Fujiwara)\n",
      "\u001b[1;31mNameError\u001b[0m: name 'reverse_number' is not defined"
     ]
    }
   ],
   "source": [
    "a=9\n",
    "b=7\n",
    "c=2\n",
    "d=1\n",
    "Masahiko=a+b+c+d\n",
    "print(Masahiko)\n",
    "Fujiwara=reverse_number(Masahiko)\n",
    "print(Fujiwara)"
   ]
  },
  {
   "cell_type": "code",
   "execution_count": 53,
   "id": "ec7d050a-698f-423a-a182-118460f00410",
   "metadata": {},
   "outputs": [
    {
     "name": "stdout",
     "output_type": "stream",
     "text": [
      "Carol and Tuesday\n"
     ]
    }
   ],
   "source": [
    "w1= 'Carol'\n",
    "w2= 'Tuesday'\n",
    "print(w1+\" and \"+w2)"
   ]
  },
  {
   "cell_type": "code",
   "execution_count": 57,
   "id": "bf3ad426-9caa-490c-98fc-e0b59daae84a",
   "metadata": {},
   "outputs": [
    {
     "name": "stdout",
     "output_type": "stream",
     "text": [
      "hello!hello!hello!hello!hello!hello!hello!hello!hello!hello!\n"
     ]
    }
   ],
   "source": [
    "a_word = 'hello!'\n",
    "\n",
    "an_Echo = a_word*10\n",
    "\n",
    "print(an_Echo)"
   ]
  },
  {
   "cell_type": "code",
   "execution_count": 59,
   "id": "eb359fb0-94f9-498d-bcf6-7a51fb8a829d",
   "metadata": {},
   "outputs": [
    {
     "name": "stdout",
     "output_type": "stream",
     "text": [
      "Are we there yet?Are we there yet?Are we there yet?Are we there yet?Are we there yet?Are we there yet?Are we there yet?Are we there yet?Are we there yet?Are we there yet?Are we there yet?Are we there yet?Are we there yet?Are we there yet?Are we there yet?Are we there yet?Are we there yet?Are we there yet?Are we there yet?Are we there yet?Are we there yet?Are we there yet?Are we there yet?Are we there yet?Are we there yet?Are we there yet?Are we there yet?Are we there yet?Are we there yet?Are we there yet?\n"
     ]
    }
   ],
   "source": [
    "tolerable= 'Are we there yet?'\n",
    "\n",
    "annoying = tolerable*30\n",
    "\n",
    "print(annoying)"
   ]
  },
  {
   "cell_type": "code",
   "execution_count": 61,
   "id": "027a7313-5512-4810-ac91-6fd1d3c04a09",
   "metadata": {},
   "outputs": [
    {
     "name": "stdout",
     "output_type": "stream",
     "text": [
      "He-man has the power of Grayskull\n"
     ]
    }
   ],
   "source": [
    "powerSource = 'Grayskull'\n",
    "\n",
    "print('He-man has the power of %s'  %powerSource)"
   ]
  },
  {
   "cell_type": "code",
   "execution_count": 63,
   "id": "667963b4-d16f-4f15-a93b-f296ce87bcdd",
   "metadata": {},
   "outputs": [
    {
     "name": "stdout",
     "output_type": "stream",
     "text": [
      "Kenpachi is the captain of Squad 13\n"
     ]
    }
   ],
   "source": [
    "name = 'Kenpachi'\n",
    "\n",
    "number = 13\n",
    "\n",
    "print(\"%s is the captain of Squad %d\" %(name, number))"
   ]
  },
  {
   "cell_type": "code",
   "execution_count": 65,
   "id": "70ee5f5a-a937-4504-8ce1-53e710bb5eeb",
   "metadata": {},
   "outputs": [
    {
     "name": "stdout",
     "output_type": "stream",
     "text": [
      "The constant ‘pi' is also known as the Archimedes' constant and has the value 3.141590\n",
      "The constant 'pi' is also known as the Archimedes' constant and has the value 3.1416\n",
      "The constant 'pi' is also known as the Archimedes' constant and has the value 3.14\n"
     ]
    }
   ],
   "source": [
    "piValue = 3.14159\n",
    "\n",
    "print(\"The constant ‘pi' is also known as the Archimedes' constant and has the value %f\" %piValue)\n",
    "\n",
    "print(\"The constant 'pi' is also known as the Archimedes' constant and has the value %.4f\" %piValue)\n",
    "\n",
    "print(\"The constant 'pi' is also known as the Archimedes' constant and has the value %.2f\" %piValue)"
   ]
  },
  {
   "cell_type": "code",
   "execution_count": 69,
   "id": "9addf635-6be5-4247-92ee-8a0697f42631",
   "metadata": {},
   "outputs": [
    {
     "name": "stdout",
     "output_type": "stream",
     "text": [
      "[3, 2, 1]\n",
      "['Sugar', 'Spice', 'Everything Nice']\n",
      "['Mushfiqur Rahman', 'Bangladeshi', 33, 36.31]\n"
     ]
    }
   ],
   "source": [
    "list1 = [3,2,1]\n",
    "\n",
    "print(list1)\n",
    "\n",
    "PPG = [ 'Sugar', 'Spice', 'Everything Nice']\n",
    "\n",
    "print(PPG)\n",
    "\n",
    "MR = ['Mushfiqur Rahman', 'Bangladeshi', 33, 36.31]\n",
    "\n",
    "print (MR)"
   ]
  },
  {
   "cell_type": "code",
   "execution_count": 73,
   "id": "d863abf7-6feb-4004-88ac-e8c69716e209",
   "metadata": {},
   "outputs": [
    {
     "name": "stdout",
     "output_type": "stream",
     "text": [
      "['Sugar', 'Spice', 'Everything Nice', 'Chemical X']\n",
      "[3, 2, 1, 'Let’s go!']\n"
     ]
    }
   ],
   "source": [
    "PPG.append('Chemical X')\n",
    "\n",
    "print(PPG)\n",
    "\n",
    "list1.append(\"Let’s go!\")\n",
    "\n",
    "print(list1)"
   ]
  },
  {
   "cell_type": "code",
   "execution_count": 75,
   "id": "1d4a7e09-fe00-4286-be86-e3a2a562656d",
   "metadata": {},
   "outputs": [
    {
     "name": "stdout",
     "output_type": "stream",
     "text": [
      "I completed the following topics in first week:  ['print', 'variables', 'strings']\n"
     ]
    }
   ],
   "source": [
    "chaptersCompleted = []\n",
    "\n",
    "chaptersCompleted.append('print')\n",
    "\n",
    "chaptersCompleted.append('variables')\n",
    "\n",
    "chaptersCompleted.append('strings')\n",
    "\n",
    "print('I completed the following topics in first week:  %s' %chaptersCompleted)"
   ]
  },
  {
   "cell_type": "code",
   "execution_count": 77,
   "id": "2e5ce72f-c123-4ca1-8c10-a8d54cea9457",
   "metadata": {},
   "outputs": [
    {
     "name": "stdout",
     "output_type": "stream",
     "text": [
      "False True True False\n"
     ]
    }
   ],
   "source": [
    "a_Bool = 3>4\n",
    "\n",
    "Abul  = 6<6.3\n",
    "\n",
    "Ab_Wool =  'cat'=='cat'\n",
    "\n",
    "a_bull =  'cow'=='bull'\n",
    "\n",
    "print(a_Bool, Abul, Ab_Wool, a_bull)"
   ]
  },
  {
   "cell_type": "code",
   "execution_count": 79,
   "id": "5b66a357-637c-495b-a7e0-80ee45bd127c",
   "metadata": {},
   "outputs": [
    {
     "name": "stdout",
     "output_type": "stream",
     "text": [
      "True\n",
      "True\n",
      "False\n",
      " \"Bangladesh has more that 30 zilas\" : True \n",
      " \"Bangladesh has 8 divisions, not zilas\" : True \n",
      " \"The boolean variable zila is the same as the string 'zila'\" : False \n"
     ]
    }
   ],
   "source": [
    "zila = 64\n",
    "\n",
    "print(zila>30)\n",
    "\n",
    "print(zila!=8)\n",
    "\n",
    "print(zila=='zila')\n",
    "\n",
    "print(\" \\\"Bangladesh has more that 30 zilas\\\" : %s \"  %(zila>30))\n",
    "\n",
    "print(\" \\\"Bangladesh has 8 divisions, not zilas\\\" : %s \"  %(zila!=8))\n",
    "\n",
    "print(\" \\\"The boolean variable zila is the same as the string 'zila'\\\" : %s \"  %(zila=='zila'))"
   ]
  },
  {
   "cell_type": "code",
   "execution_count": 81,
   "id": "32389156-bc00-4c64-8382-5fe2980d5c91",
   "metadata": {},
   "outputs": [
    {
     "name": "stdout",
     "output_type": "stream",
     "text": [
      "True\n",
      "True\n",
      "Mikasa has duty today?  – True\n",
      "Eren has duty today?  – False\n"
     ]
    }
   ],
   "source": [
    "dutyRoster =['Mikasa', 'Armin']\n",
    "\n",
    "print('Mikasa' in dutyRoster)\n",
    "\n",
    "print('Armin' in dutyRoster)\n",
    "\n",
    "print(\"Mikasa has duty today?  – %s\"  %('Mikasa' in dutyRoster))\n",
    "\n",
    "print(\"Eren has duty today?  – %s\"  %('Eren' in dutyRoster))"
   ]
  },
  {
   "cell_type": "code",
   "execution_count": 85,
   "id": "abd08b7e-9bc1-458b-bbb7-fbe3ba0f084e",
   "metadata": {},
   "outputs": [
    {
     "name": "stdout",
     "output_type": "stream",
     "text": [
      "True\n",
      "False\n"
     ]
    }
   ],
   "source": [
    "avatar= ['earth', 'fire', 'air', 'water']\n",
    "\n",
    "frozen2 =['earth', 'fire', 'air', 'water']\n",
    "\n",
    "print(avatar==frozen2)\n",
    "\n",
    "print(avatar is frozen2)"
   ]
  },
  {
   "cell_type": "code",
   "execution_count": 87,
   "id": "0213b82d-48d0-4841-8d1d-4d8610f4aca0",
   "metadata": {},
   "outputs": [
    {
     "name": "stdout",
     "output_type": "stream",
     "text": [
      "False\n",
      "True\n"
     ]
    }
   ],
   "source": [
    "print(not True)\n",
    "\n",
    "print(not(7>8)==True)"
   ]
  },
  {
   "cell_type": "code",
   "execution_count": 89,
   "id": "0f9f85e4-54fb-48ac-8dcc-9eb685b4f913",
   "metadata": {},
   "outputs": [
    {
     "name": "stdout",
     "output_type": "stream",
     "text": [
      "Ibrahim can apply for the internship: True\n",
      "Rokeya can apply for the internship: False\n"
     ]
    }
   ],
   "source": [
    "Ibrahim_cgpa=2.8\n",
    "\n",
    "Ibrahim_semester =9\n",
    "\n",
    "Rokeya_cgpa=3.3\n",
    "\n",
    "Rokeya_semester =4\n",
    "\n",
    "#A student can do an internship at Company X only when\n",
    "\n",
    "#his or her CGPA is greater than 2.5\n",
    "\n",
    "#AND \n",
    "\n",
    "#he or she has completed at least  2 years (6 semesters)\n",
    "\n",
    "print(\"Ibrahim can apply for the internship: %s\"  %(Ibrahim_cgpa>2.5  and  Ibrahim_semester>=6) )\n",
    "\n",
    "print(\"Rokeya can apply for the internship: %s\"  %(Rokeya_cgpa>2.5  and  Rokeya_semester>=6) )"
   ]
  },
  {
   "cell_type": "code",
   "execution_count": 91,
   "id": "d8649933-4363-4da6-9436-3ea56576e6f5",
   "metadata": {},
   "outputs": [
    {
     "name": "stdout",
     "output_type": "stream",
     "text": [
      "Rokeya can apply for the internship: True\n"
     ]
    }
   ],
   "source": [
    "# Company X decides to relax  semester completion requirments if student has leadership experience\n",
    "\n",
    "Rokeya_IEEEevents = 3\n",
    "\n",
    "print(\"Rokeya can apply for the internship: %s\"  %(Rokeya_semester>=6 or Rokeya_IEEEevents>0) )"
   ]
  },
  {
   "cell_type": "code",
   "execution_count": 93,
   "id": "1820167a-0ed9-4af1-aef1-f7e0836ed025",
   "metadata": {},
   "outputs": [
    {
     "name": "stdout",
     "output_type": "stream",
     "text": [
      "This is a ‘deshattobodhok gaan’!\n"
     ]
    }
   ],
   "source": [
    "song = \"Purbo digonte\"\n",
    "\n",
    "if song =='Jala Jala Jala':\n",
    "    print(\"This is a 'band er gaan'! \")\n",
    "elif song=='Purbo digonte':\n",
    "    print(\"This is a ‘deshattobodhok gaan’!\")\n",
    "else:\n",
    "    print(\"I don’t know!\")"
   ]
  },
  {
   "cell_type": "code",
   "execution_count": 97,
   "id": "3fba13e7-c6b4-471e-a836-6ccd9195adf9",
   "metadata": {},
   "outputs": [
    {
     "name": "stdout",
     "output_type": "stream",
     "text": [
      "Bag has something!\n"
     ]
    }
   ],
   "source": [
    "bag =[24]\n",
    "\n",
    "if bag:\n",
    "\n",
    "    print(\"Bag has something!\")\n",
    "\n",
    "else:\n",
    "\n",
    "    print(\"Empty bag :/ \")"
   ]
  },
  {
   "cell_type": "code",
   "execution_count": 99,
   "id": "f1b9aa71-ec9f-4efa-b7d2-f7225bd69a1c",
   "metadata": {},
   "outputs": [
    {
     "name": "stdout",
     "output_type": "stream",
     "text": [
      "You are NOT allowed to call me Aunty. Call me Apu!\n"
     ]
    }
   ],
   "source": [
    "age = 21\n",
    "\n",
    "if age>8:\n",
    "\n",
    "    print(\"You are NOT allowed to call me Aunty. Call me Apu!\")\n",
    "\n",
    "else:\n",
    "\n",
    "    print(\"Ok, you can call me Aunty, you cute little munchkin!\")"
   ]
  },
  {
   "cell_type": "code",
   "execution_count": 101,
   "id": "d620ad90-7084-4813-91eb-dffeeebc5bd4",
   "metadata": {},
   "outputs": [
    {
     "name": "stdout",
     "output_type": "stream",
     "text": [
      "You can fly!\n"
     ]
    }
   ],
   "source": [
    "list1 = [ 'Hawkgirl', 'Alucard', 'Peter Pan', 'Marry Poppins']\n",
    "\n",
    "list2 =  ['Hulk', 'Starfire', 'Hercules', 'Goku' ]\n",
    "\n",
    "name = 'Peter Pan'\n",
    "\n",
    "if name in list1:\n",
    "\n",
    "    print(\"You can fly!\")\n",
    "\n",
    "else:\n",
    "\n",
    "    print(\"You are strong!\")"
   ]
  },
  {
   "cell_type": "code",
   "execution_count": 103,
   "id": "695c530e-edb9-4a55-ad7a-84b2024cdc4f",
   "metadata": {},
   "outputs": [],
   "source": [
    "list3 = ['Alucard','Goku']\n",
    "\n",
    "if list1[2] in list3:\n",
    "\n",
    "    print(\"%s is an anime character!\"  %list1[2])"
   ]
  },
  {
   "cell_type": "code",
   "execution_count": 4,
   "id": "71f0c426-c631-4ebc-afac-1999ebec3866",
   "metadata": {},
   "outputs": [
    {
     "name": "stdout",
     "output_type": "stream",
     "text": [
      "Alucard is an anime character!\n"
     ]
    }
   ],
   "source": [
    "list1 = [ 'Hawkgirl', 'Alucard', 'Peter Pan', 'Marry Poppins']\n",
    "\n",
    "list2 =  ['Hulk', 'Starfire', 'Hercules', 'Goku' ]\n",
    "\n",
    "list3 = ['Alucard','Goku']\n",
    "\n",
    "if list1[1] in list3:\n",
    "\n",
    "    print(\"%s is an anime character!\"  %list1[1])"
   ]
  },
  {
   "cell_type": "code",
   "execution_count": 6,
   "id": "e52d687f-9f32-4f6f-a98a-fc41c2a34219",
   "metadata": {},
   "outputs": [
    {
     "name": "stdout",
     "output_type": "stream",
     "text": [
      "16\n",
      "19\n",
      "19\n",
      "22\n",
      "23\n",
      "27\n",
      "27\n",
      "33\n",
      "35\n",
      "40\n"
     ]
    }
   ],
   "source": [
    "cousinsAge = [16, 19, 19, 22, 23, 27, 27, 33, 35, 40]\n",
    "\n",
    "for age in cousinsAge:\n",
    "    print(age)"
   ]
  },
  {
   "cell_type": "code",
   "execution_count": 10,
   "id": "03435682-8297-4ad5-80ca-113198c89283",
   "metadata": {},
   "outputs": [
    {
     "name": "stdout",
     "output_type": "stream",
     "text": [
      "I have a 16-year-old cousin\n",
      "I have a 19-year-old cousin\n",
      "I have a 19-year-old cousin\n",
      "I have a 22-year-old cousin\n",
      "I have a 23-year-old cousin\n",
      "I have a 27-year-old cousin\n",
      "I have a 27-year-old cousin\n",
      "I have a 33-year-old cousin\n",
      "I have a 35-year-old cousin\n",
      "I have a 40-year-old cousin\n"
     ]
    }
   ],
   "source": [
    "for eachItem in cousinsAge:\n",
    "    print(\"I have a %d-year-old cousin\" %eachItem)"
   ]
  },
  {
   "cell_type": "code",
   "execution_count": 14,
   "id": "ce6d89b3-698b-45ac-86cc-9d3c305bfecc",
   "metadata": {},
   "outputs": [
    {
     "name": "stdout",
     "output_type": "stream",
     "text": [
      "To make the Thanksgiving Trifle Rachel made in Friends, I need the following: \n",
      "ladyfingers\n",
      "peas\n",
      "onions\n",
      "beef\n",
      "jam\n",
      "custard\n",
      "bananas\n",
      "whipped cream\n",
      "raspberries\n"
     ]
    }
   ],
   "source": [
    "shoppingList = ['ladyfingers','peas', 'onions', 'beef', 'jam', 'custard', 'bananas', 'whipped cream', 'raspberries']\n",
    "\n",
    "print(\"To make the Thanksgiving Trifle Rachel made in Friends, I need the following: \")\n",
    "for ingredient in shoppingList:\n",
    "    print(ingredient)"
   ]
  },
  {
   "cell_type": "code",
   "execution_count": 20,
   "id": "cff709fc-ca74-48c2-975f-92acec7f1998",
   "metadata": {},
   "outputs": [
    {
     "name": "stdout",
     "output_type": "stream",
     "text": [
      "0 0\n",
      "1 2\n",
      "2 4\n",
      "3 6\n",
      "4 8\n"
     ]
    }
   ],
   "source": [
    "for number in range(5):\n",
    "    print(number, number*2)"
   ]
  },
  {
   "cell_type": "code",
   "execution_count": 22,
   "id": "572016ea-a0f6-4b1a-ac08-0d0b6da77d49",
   "metadata": {},
   "outputs": [
    {
     "name": "stdout",
     "output_type": "stream",
     "text": [
      "3\n",
      "4\n",
      "5\n"
     ]
    }
   ],
   "source": [
    "for i in range(3,6):\n",
    "    print(i)"
   ]
  },
  {
   "cell_type": "code",
   "execution_count": 24,
   "id": "5c20ad69-8a14-4aec-acfd-14911b5de86d",
   "metadata": {},
   "outputs": [
    {
     "name": "stdout",
     "output_type": "stream",
     "text": [
      "1\n",
      "2\n",
      "3\n",
      "4\n",
      "5\n"
     ]
    }
   ],
   "source": [
    "for i in range(1,6):\n",
    "    print(i)"
   ]
  },
  {
   "cell_type": "code",
   "execution_count": 26,
   "id": "6eef19bb-7b76-412b-8a2d-705a795c5f91",
   "metadata": {},
   "outputs": [
    {
     "name": "stdout",
     "output_type": "stream",
     "text": [
      "1\n",
      "3\n",
      "5\n",
      "7\n",
      "9\n"
     ]
    }
   ],
   "source": [
    "for item in range(1,10,2):\n",
    "    print(item)"
   ]
  },
  {
   "cell_type": "code",
   "execution_count": 28,
   "id": "63ef2189-d090-4965-9d48-5931c284ef2b",
   "metadata": {},
   "outputs": [
    {
     "name": "stdout",
     "output_type": "stream",
     "text": [
      "10\n",
      "7\n",
      "4\n",
      "1\n",
      "-2\n",
      "-5\n",
      "-8\n"
     ]
    }
   ],
   "source": [
    "for number in range(10, -10, -3):\n",
    "    print(number)"
   ]
  },
  {
   "cell_type": "code",
   "execution_count": 8,
   "id": "6c9ef093-84bf-45bc-bd6b-75840bef1f5a",
   "metadata": {},
   "outputs": [
    {
     "name": "stdout",
     "output_type": "stream",
     "text": [
      "200\n",
      "199\n",
      "198\n",
      "197\n",
      "196\n",
      "195\n"
     ]
    }
   ],
   "source": [
    "num = 200\n",
    "while num >= 195:\n",
    "    print(num)\n",
    "    num = num-1 "
   ]
  },
  {
   "cell_type": "code",
   "execution_count": 6,
   "id": "74284192-4cff-4cd3-b99e-77173b21f385",
   "metadata": {},
   "outputs": [
    {
     "name": "stdout",
     "output_type": "stream",
     "text": [
      "Keep going up!\n",
      "Keep going up!\n",
      "Keep going up!\n",
      "Keep going up!\n",
      "Keep going up!\n",
      "Keep going up!\n",
      "Keep going up!\n",
      "Keep going up!\n",
      "You have reached the 10th Floor! The lift is opening.\n"
     ]
    }
   ],
   "source": [
    "desiredFloor = 10\n",
    "currentFloor = 2\n",
    "\n",
    "while currentFloor != desiredFloor:\n",
    "    print(\"Keep going up!\")\n",
    "    currentFloor = currentFloor+1\n",
    "\n",
    "print(\"You have reached the %dth Floor! The lift is opening.\" %desiredFloor)"
   ]
  },
  {
   "cell_type": "code",
   "execution_count": 22,
   "id": "14650663-2db0-4fbb-9d23-632feaba5cd6",
   "metadata": {},
   "outputs": [
    {
     "name": "stdout",
     "output_type": "stream",
     "text": [
      "10 !\n",
      "9 !\n",
      "8 !\n",
      "7 !\n",
      "6 !\n",
      "5 !\n",
      "4 !\n",
      "3 !\n",
      "2 !\n",
      "1 !\n",
      "Blast off!\n"
     ]
    }
   ],
   "source": [
    "count = 10\n",
    "\n",
    "while count>=1:\n",
    "    print(count,\"!\")\n",
    "    count -= 1\n",
    "print(\"Blast off!\")"
   ]
  },
  {
   "cell_type": "code",
   "execution_count": 28,
   "id": "854fbb7c-c2ef-440e-97b5-b97089d7bedf",
   "metadata": {},
   "outputs": [
    {
     "name": "stdout",
     "output_type": "stream",
     "text": [
      "Kurosaki-kun\n",
      "Kurosaki-kun\n",
      "Kurosaki-kun\n",
      "Kurosaki-kun\n",
      "Kurosaki-kun\n",
      "Time for the next episode\n",
      "5\n"
     ]
    }
   ],
   "source": [
    "count= 0\n",
    "\n",
    "while True:\n",
    "    if count==5:\n",
    "        break\n",
    "    print('Kurosaki-kun')\n",
    "    count = count+1\n",
    "print(\"Time for the next episode\")\n",
    "print(count)"
   ]
  },
  {
   "cell_type": "code",
   "execution_count": 32,
   "id": "2a5c78d7-6afa-4286-b2dd-27656366adb0",
   "metadata": {},
   "outputs": [
    {
     "name": "stdout",
     "output_type": "stream",
     "text": [
      "Artcell is a Bangladeshi band\n",
      "Aurthohin is a Bangladeshi band\n",
      "Arbovirus is a Bangladeshi band\n"
     ]
    }
   ],
   "source": [
    "bandListA = ['Artcell','Aurthohin','AC/DC','Arbovirus']\n",
    "\n",
    "for band in bandListA:\n",
    "    if band=='AC/DC':\n",
    "        continue\n",
    "    print('%s is a Bangladeshi band' %band)"
   ]
  },
  {
   "cell_type": "code",
   "execution_count": 38,
   "id": "fc98cced-9124-457b-9c2b-89dc70d4756c",
   "metadata": {},
   "outputs": [
    {
     "name": "stdout",
     "output_type": "stream",
     "text": [
      "We got Captain Marvel on the team! We need no more!!\n",
      "The confirmed team for the mission is as follows:\n",
      "['Iron Man', 'Black Widow', 'Captain America', 'Firestar', 'Thor', 'Invisible Woman', 'Black Panther', 'Captain Marvel']\n"
     ]
    }
   ],
   "source": [
    "proposedNames = ['Iron Man', 'Black Widow', 'Captain America', 'Quick Silver', 'Firestar', 'Thor', 'Invisible Woman', 'Scarlet Witch', 'Black Panther', 'Captain Marvel','Falcon','She-Hulk']\n",
    "confirmedList =[]\n",
    "\n",
    "for name in proposedNames:\n",
    "    if name=='Quick Silver' or name=='Scarlet Witch':\n",
    "        continue\n",
    "    elif name=='Captain Marvel':\n",
    "        confirmedList.append(name)\n",
    "        print('We got Captain Marvel on the team! We need no more!!')\n",
    "        break\n",
    "    else:\n",
    "        confirmedList.append(name)\n",
    "\n",
    "print(\"The confirmed team for the mission is as follows:\")\n",
    "print(confirmedList)"
   ]
  },
  {
   "cell_type": "code",
   "execution_count": 42,
   "id": "d5a3597d-bdfe-4d8b-aa1a-0061ba06fc6c",
   "metadata": {},
   "outputs": [
    {
     "name": "stdout",
     "output_type": "stream",
     "text": [
      "4\n",
      "5\n",
      "6\n",
      "Chokka!!!!\n"
     ]
    }
   ],
   "source": [
    "from random import randint #we are importing a function ‘randint’\n",
    "#from a special library ‘random’\n",
    "#that will help us generate random numbers\n",
    "\n",
    "while True:\n",
    "    someNumber = randint(1,6) #generates a number between 1 to 6 inclusive\n",
    "    print(someNumber)\n",
    "    if someNumber==6:\n",
    "        print('Chokka!!!!')\n",
    "        break"
   ]
  },
  {
   "cell_type": "code",
   "execution_count": 45,
   "id": "8efc6615-e01d-413e-843e-363ccbbaa20a",
   "metadata": {},
   "outputs": [
    {
     "name": "stdout",
     "output_type": "stream",
     "text": [
      "5\n",
      "2\n",
      "2\n",
      "4\n",
      "4\n",
      "1\n",
      "1\n",
      "6\n",
      "Chokka!!!!\n"
     ]
    }
   ],
   "source": [
    "from random import randint #we are importing a function ‘randint’\n",
    "#from a special library ‘random’\n",
    "#that will help us generate random numbers\n",
    "\n",
    "while True:\n",
    "    someNumber = randint(1,6) #generates a number between 1 to 6 inclusive\n",
    "    print(someNumber)\n",
    "    if someNumber==6:\n",
    "        print('Chokka!!!!')\n",
    "        break"
   ]
  },
  {
   "cell_type": "code",
   "execution_count": 47,
   "id": "785534a1-747e-442a-ac64-74034199e77f",
   "metadata": {},
   "outputs": [
    {
     "name": "stdout",
     "output_type": "stream",
     "text": [
      "5\n",
      "6\n",
      "Chokka!!!!\n"
     ]
    }
   ],
   "source": [
    "chaal=0\n",
    "while True:\n",
    "    someNumber = randint(1,6) #generates a number between 1 to 20 inclusive\n",
    "    print(someNumber)\n",
    "    chaal=chaal+1\n",
    "    if someNumber==6:\n",
    "        print('Chokka!!!!')\n",
    "        break\n",
    "    if chaal%4==0:\n",
    "        print('Uff, why no chokka yet! :/')"
   ]
  },
  {
   "cell_type": "code",
   "execution_count": 49,
   "id": "43706a82-1437-4581-9fd9-9538cad9f354",
   "metadata": {},
   "outputs": [
    {
     "name": "stdout",
     "output_type": "stream",
     "text": [
      "4\n",
      "2\n",
      "3\n",
      "6\n",
      "Chokka!!!!\n"
     ]
    }
   ],
   "source": [
    "chaal=0\n",
    "while True:\n",
    "    someNumber = randint(1,6) #generates a number between 1 to 20 inclusive\n",
    "    print(someNumber)\n",
    "    chaal=chaal+1\n",
    "    if someNumber==6:\n",
    "        print('Chokka!!!!')\n",
    "        break\n",
    "    if chaal%4==0:\n",
    "        print('Uff, why no chokka yet! :/')"
   ]
  },
  {
   "cell_type": "code",
   "execution_count": 51,
   "id": "19512a89-7496-48da-9121-e7e76f5f8bf3",
   "metadata": {},
   "outputs": [
    {
     "name": "stdout",
     "output_type": "stream",
     "text": [
      "4\n",
      "3\n",
      "6\n",
      "Chokka!!!!\n"
     ]
    }
   ],
   "source": [
    "chaal=0\n",
    "while True:\n",
    "    someNumber = randint(1,6) #generates a number between 1 to 20 inclusive\n",
    "    print(someNumber)\n",
    "    chaal=chaal+1\n",
    "    if someNumber==6:\n",
    "        print('Chokka!!!!')\n",
    "        break\n",
    "    if chaal%4==0:\n",
    "        print('Uff, why no chokka yet! :/')"
   ]
  },
  {
   "cell_type": "code",
   "execution_count": 53,
   "id": "f2a77834-256f-4f77-9daa-f1eb4306c8d1",
   "metadata": {},
   "outputs": [
    {
     "name": "stdout",
     "output_type": "stream",
     "text": [
      "4\n",
      "2\n",
      "6\n",
      "Chokka!!!!\n"
     ]
    }
   ],
   "source": [
    "chaal=0\n",
    "while True:\n",
    "    someNumber = randint(1,6) #generates a number between 1 to 20 inclusive\n",
    "    print(someNumber)\n",
    "    chaal=chaal+1\n",
    "    if someNumber==6:\n",
    "        print('Chokka!!!!')\n",
    "        break\n",
    "    if chaal%4==0:\n",
    "        print('Uff, why no chokka yet! :/')"
   ]
  },
  {
   "cell_type": "code",
   "execution_count": 8,
   "id": "b57ba642-fa4f-481e-b848-53d6a065a87f",
   "metadata": {},
   "outputs": [
    {
     "name": "stdout",
     "output_type": "stream",
     "text": [
      "Sum of list: 186\n",
      "Length of list: 5\n",
      "37.2\n"
     ]
    }
   ],
   "source": [
    "def find_sum(a_list):\n",
    "    a_sum = 0\n",
    "    for element in a_list:\n",
    "        a_sum += element\n",
    "    return a_sum\n",
    "\n",
    "def find_length(a_list):\n",
    "    length = 0\n",
    "    for element in a_list:\n",
    "        length += 1\n",
    "    return length\n",
    "\n",
    "#def mean(a_list):\n",
    "    #sum_list = find_sum(a_list)\n",
    "    #len_list = find_length(a_list)\n",
    "    #mean_list = sum_list / len_list\n",
    "    #return mean_list\n",
    "\n",
    "def mean(a_list):\n",
    "    sum_list = find_sum(a_list)\n",
    "    print(f\"Sum of list: {sum_list}\")\n",
    "    len_list = find_length(a_list)\n",
    "    print(f\"Length of list: {len_list}\")\n",
    "    mean_list = sum_list / len_list\n",
    "    return mean_list\n",
    "\n",
    "list_1 = [65, 45, 15, 24, 37]\n",
    "print(mean(list_1))"
   ]
  },
  {
   "cell_type": "code",
   "execution_count": null,
   "id": "9dc7db17-879d-4d31-81ff-4e3c1c956fb3",
   "metadata": {},
   "outputs": [],
   "source": []
  }
 ],
 "metadata": {
  "kernelspec": {
   "display_name": "Python [conda env:base] *",
   "language": "python",
   "name": "conda-base-py"
  },
  "language_info": {
   "codemirror_mode": {
    "name": "ipython",
    "version": 3
   },
   "file_extension": ".py",
   "mimetype": "text/x-python",
   "name": "python",
   "nbconvert_exporter": "python",
   "pygments_lexer": "ipython3",
   "version": "3.12.7"
  }
 },
 "nbformat": 4,
 "nbformat_minor": 5
}
